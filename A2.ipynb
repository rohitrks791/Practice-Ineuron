{
 "cells": [
  {
   "cell_type": "markdown",
   "metadata": {},
   "source": [
    "# Task-1:\n",
    "\n",
    "1.1 Write a Python Program to implement your own myreduce() function which works exactly like Python's built-in function reduce()"
   ]
  },
  {
   "cell_type": "code",
   "execution_count": 15,
   "metadata": {},
   "outputs": [
    {
     "name": "stdout",
     "output_type": "stream",
     "text": [
      "150\n",
      "150\n"
     ]
    }
   ],
   "source": [
    "#Adding all elements in list\n",
    "#with using reduce()\n",
    "from functools import *\n",
    "l=[10,20,30,40,50]\n",
    "res=reduce(lambda x,y:x+y,l)\n",
    "print(res)\n",
    "\n",
    "#without using reduce()\n",
    "def myreduce():\n",
    "    l=[10,20,30,40,50]\n",
    "    sum=0\n",
    "    for x in l:\n",
    "           sum=sum+x\n",
    "    print(res)\n",
    "myreduce()"
   ]
  },
  {
   "cell_type": "markdown",
   "metadata": {},
   "source": [
    "1.2 Write a Python program to implement your own myfilter() function which works exactly like Python's built-in function filter()"
   ]
  },
  {
   "cell_type": "code",
   "execution_count": 25,
   "metadata": {},
   "outputs": [
    {
     "name": "stdout",
     "output_type": "stream",
     "text": [
      "even: [0, 2, 4, 6, 8, 10]\n",
      "odd: [1, 3, 5, 7, 9]\n",
      "even: [0, 2, 4, 6, 8, 10]\n",
      "odd: [1, 3, 5, 7, 9]\n"
     ]
    }
   ],
   "source": [
    "#filter odd,even numbers from the given list\n",
    "#with using filter:\n",
    "l=[0,1,2,3,4,5,6,7,8,9,10]\n",
    "even=list(filter(lambda n:n%2==0,l))\n",
    "odd=list(filter(lambda n:n%2!=0,l))\n",
    "print(\"even:\",even)\n",
    "print(\"odd:\",odd)\n",
    "\n",
    "\n",
    "#without-using-filter\n",
    "def myfilter():\n",
    "    x=[]\n",
    "    y=[]\n",
    "    for i in l:\n",
    "        if i%2==0:\n",
    "            x.append(i)\n",
    "        else:\n",
    "            y.append(i)\n",
    "    print(\"even:\",x)\n",
    "    print(\"odd:\",y)\n",
    "    \n",
    "myfilter()"
   ]
  },
  {
   "cell_type": "markdown",
   "metadata": {},
   "source": [
    "2. Implement List comprehensions to produce the following lists. Write List comprehensions to produce the following Lists \n"
   ]
  },
  {
   "cell_type": "code",
   "execution_count": 25,
   "metadata": {},
   "outputs": [
    {
     "name": "stdout",
     "output_type": "stream",
     "text": [
      "['A', 'C', 'A', 'D', 'G', 'I', 'L', 'D']\n"
     ]
    }
   ],
   "source": [
    "#['A','C','A','D','G','I',’L’,‘D’]\n",
    "word='ACADGILD'\n",
    "x=[ch for ch in word]\n",
    "print(x)"
   ]
  },
  {
   "cell_type": "code",
   "execution_count": 28,
   "metadata": {},
   "outputs": [
    {
     "name": "stdout",
     "output_type": "stream",
     "text": [
      "['x', 'xx', 'xxx', 'xxxx', 'y', 'yy', 'yyy', 'yyyy', 'z', 'zz', 'zzz', 'zzzz']\n"
     ]
    }
   ],
   "source": [
    "#['x','xx','xxx','xxxx','y','yy','yyy','yyyy','z','zz','zzz','zzzz']\n",
    "list=['x','y','z']\n",
    "x=[i*num for i in list for num in range(1,5)]\n",
    "print(x)"
   ]
  },
  {
   "cell_type": "code",
   "execution_count": 30,
   "metadata": {},
   "outputs": [
    {
     "name": "stdout",
     "output_type": "stream",
     "text": [
      "['x', 'y', 'z', 'xx', 'yy', 'zz', 'xxx', 'yyy', 'zzz', 'xxxx', 'yyyy', 'zzzz']\n"
     ]
    }
   ],
   "source": [
    "#['x', 'y', 'z', 'xx', 'yy', 'zz', 'xxx', 'yyy', 'zzz', 'xxxx', 'yyyy', 'zzzz']\n",
    "list=['x','y','z']\n",
    "x=[num*i for num in range(1,5) for i in list]\n",
    "print(x)"
   ]
  },
  {
   "cell_type": "code",
   "execution_count": 32,
   "metadata": {},
   "outputs": [
    {
     "name": "stdout",
     "output_type": "stream",
     "text": [
      "[[2], [3], [4], [3], [4], [5], [4], [5], [6]]\n"
     ]
    }
   ],
   "source": [
    "#[[2], [3], [4], [3], [4], [5], [4], [5], [6]]\n",
    "list=[2,3,4]\n",
    "x=[[i+num] for i in list for num in range(0,3)]\n",
    "print(x)"
   ]
  },
  {
   "cell_type": "code",
   "execution_count": 4,
   "metadata": {},
   "outputs": [
    {
     "name": "stdout",
     "output_type": "stream",
     "text": [
      "[[2, 3, 4, 5], [3, 4, 5, 6], [4, 5, 6, 7], [5, 6, 7, 8]]\n"
     ]
    }
   ],
   "source": [
    "#[[2, 3, 4, 5], [3, 4, 5, 6], [4, 5, 6, 7], [5, 6, 7, 8]]\n",
    "list=[2,3,4,5]\n",
    "x=[[i+num  for i in list] for num in range(0,4)]\n",
    "print(x)"
   ]
  },
  {
   "cell_type": "code",
   "execution_count": 7,
   "metadata": {},
   "outputs": [
    {
     "name": "stdout",
     "output_type": "stream",
     "text": [
      "[(1, 1), (2, 1), (3, 1), (1, 2), (2, 2), (3, 2), (1, 3), (2, 3), (3, 3)]\n"
     ]
    }
   ],
   "source": [
    "#[(1, 1), (2, 1), (3, 1), (1, 2), (2, 2), (3, 2), (1, 3), (2, 3), (3, 3)]\n",
    "list=[1,2,3]\n",
    "x=[(b,a) for a in list for b in list]\n",
    "print(x)"
   ]
  },
  {
   "cell_type": "markdown",
   "metadata": {},
   "source": [
    "3. Implement a function longestWord() that takes a list of words and returns the longest one."
   ]
  },
  {
   "cell_type": "code",
   "execution_count": 12,
   "metadata": {},
   "outputs": [
    {
     "data": {
      "text/plain": [
       "'sudhanshu'"
      ]
     },
     "execution_count": 12,
     "metadata": {},
     "output_type": "execute_result"
    }
   ],
   "source": [
    "def longestWord(x):\n",
    "    l=''\n",
    "    for i in x:\n",
    "        if len(i)>len(l):\n",
    "            l=i\n",
    "    return l\n",
    "\n",
    "list_of_words=[\"ritik\",\"sudhanshu\",\"rohit\",\"tom\",\"\"]\n",
    "longestWord(list_of_words)"
   ]
  },
  {
   "cell_type": "markdown",
   "metadata": {},
   "source": [
    "# Task 2:\n",
    "1.1 Write a Python Program(with class concepts) to find the area of the triangle using the below formula.\n",
    "area = (s*(s-a)*(s-b)*(s-c)) ** 0.5\n",
    "Function to take the length of the sides of triangle from user should be defined in the parent class and function to calculate the area should be defined in subclass."
   ]
  },
  {
   "cell_type": "code",
   "execution_count": 16,
   "metadata": {},
   "outputs": [
    {
     "name": "stdout",
     "output_type": "stream",
     "text": [
      "Enter values of a,b,c:3,6,8\n",
      "area of tri is: 7.644\n"
     ]
    }
   ],
   "source": [
    "class Base:\n",
    "    def sidoftri(self):\n",
    "            self.a,self.b,self.c=input(\"Enter values of a,b,c:\").split(\",\")  \n",
    "            return self.a,self.b,self.c   \n",
    "class Subclass(Base):\n",
    "    def areaoftri(self):\n",
    "          self.a,self.b,self.c=super().sidoftri()\n",
    "          self.a,self.b,self.c=float(self.a),float(self.b),float(self.c)\n",
    "          s=float(((self.a)+(self.b)+(self.c))/2)\n",
    "          #s=float(s)\n",
    "          \n",
    "          ar=(s*(s-self.a)*(s-self.b)*(s-self.c))**0.5\n",
    "          return ar\n",
    "\n",
    "c=Subclass()\n",
    "x=round(c.areaoftri(),3)\n",
    "print(\"area of tri is:\",x)"
   ]
  },
  {
   "cell_type": "markdown",
   "metadata": {},
   "source": [
    "1.2 Write a function filter_long_words() that takes a list of words and an integer n and returns the list of words that are longer than n."
   ]
  },
  {
   "cell_type": "code",
   "execution_count": 19,
   "metadata": {},
   "outputs": [
    {
     "name": "stdout",
     "output_type": "stream",
     "text": [
      "Please input the list of words: rohit,tom,joe,Dolly,hen,jerry\n",
      "['rohit', 'Dolly', 'jerry']\n"
     ]
    }
   ],
   "source": [
    "def filter_long_words(string,number):\n",
    "    return filter(lambda word:len(word)>number, string)\n",
    "\n",
    "words = input(\"Please input the list of words: \").split(',')\n",
    "print(list(filter_long_words(words,3)))\n"
   ]
  },
  {
   "cell_type": "markdown",
   "metadata": {},
   "source": [
    "2.1 Write a Python program using function concept that maps list of words into a list of integers representing the lengths of the corresponding words . Hint: If a list [ ab,cde,erty] is passed on to the python function output should come as [2,3,4] Here 2,3 and 4 are the lengths of the words in the list."
   ]
  },
  {
   "cell_type": "code",
   "execution_count": 21,
   "metadata": {},
   "outputs": [
    {
     "name": "stdout",
     "output_type": "stream",
     "text": [
      "Please input the list of words: Rohit,Henry,Tom,Jerry,Oggy,Sudhanshu\n",
      "[5, 5, 3, 5, 4, 9]\n"
     ]
    }
   ],
   "source": [
    "words = input(\"Please input the list of words: \").split(',')\n",
    "x=list(map(lambda n: len(n),words))\n",
    "print(x)"
   ]
  },
  {
   "cell_type": "markdown",
   "metadata": {},
   "source": [
    "2.2 Write a Python function which takes a character (i.e. a string of length 1) and returns True if it is a vowel, False otherwise."
   ]
  },
  {
   "cell_type": "code",
   "execution_count": 24,
   "metadata": {},
   "outputs": [
    {
     "name": "stdout",
     "output_type": "stream",
     "text": [
      "Enter your char:x\n",
      "False\n"
     ]
    }
   ],
   "source": [
    "def is_vowel():\n",
    "    ch=input(\"Enter your char:\")\n",
    "    v=['a','e','i','o','u']\n",
    "    if ch in v:\n",
    "         return True\n",
    "    else:\n",
    "         return False\n",
    "\n",
    "print(is_vowel())"
   ]
  }
 ],
 "metadata": {
  "kernelspec": {
   "display_name": "Python 3.7.2 64-bit",
   "language": "python",
   "name": "python37264bit37e891c4d5fa4b3a9e5ae179ce93ec76"
  },
  "language_info": {
   "codemirror_mode": {
    "name": "ipython",
    "version": 3
   },
   "file_extension": ".py",
   "mimetype": "text/x-python",
   "name": "python",
   "nbconvert_exporter": "python",
   "pygments_lexer": "ipython3",
   "version": "3.7.2"
  }
 },
 "nbformat": 4,
 "nbformat_minor": 4
}
